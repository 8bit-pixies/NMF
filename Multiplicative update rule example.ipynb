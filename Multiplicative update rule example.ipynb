{
 "cells": [
  {
   "cell_type": "code",
   "execution_count": 1,
   "metadata": {
    "collapsed": true
   },
   "outputs": [],
   "source": [
    "import numpy as np\n"
   ]
  },
  {
   "cell_type": "code",
   "execution_count": 2,
   "metadata": {
    "collapsed": true
   },
   "outputs": [],
   "source": [
    "u = 20\n",
    "i = 100\n",
    "k = int(i/2) # this is latent features\n",
    "\n",
    "# this is the target which we are factorizing\n",
    "V = np.random.rand(u, i) * 100\n",
    "\n",
    "# p and q are the matrix which are to be make so that\n",
    "# np.dot(W, H) == V\n",
    "W = np.random.rand(u, k) * 100 \n",
    "H = np.random.rand(k, i) * 100"
   ]
  },
  {
   "cell_type": "code",
   "execution_count": 3,
   "metadata": {
    "collapsed": true
   },
   "outputs": [],
   "source": [
    "# calculate error...\n",
    "def mse(x, y):\n",
    "    return np.mean((x - y)**2)"
   ]
  },
  {
   "cell_type": "code",
   "execution_count": 4,
   "metadata": {
    "collapsed": true
   },
   "outputs": [],
   "source": [
    "def update_step(V, W1, H1):\n",
    "    \"\"\"\n",
    "    Performs a single update of H and then W\n",
    "    returns the updated H W    \n",
    "    \"\"\"\n",
    "    W = np.copy(W1)\n",
    "    H = np.copy(H1)\n",
    "    wtv = np.dot(W.T, V)\n",
    "    #wtwh = W.T.dot(W).dot(V)\n",
    "    for idx, _ in np.ndenumerate(H):\n",
    "        x, y = idx\n",
    "        wtwh = (W.T.dot(W).dot(H))\n",
    "        H[x, y] = H[x, y] * (wtv[x, y])/(wtwh[x, y])\n",
    "    \n",
    "    vht = V.dot(H.T)\n",
    "    #whht = W.dot(H).dot(H.T)\n",
    "    for idx, _ in np.ndenumerate(W):\n",
    "        x, y = idx\n",
    "        W[x, y] = W[x, y] * (vht[x, y])/(W.dot(H).dot(H.T)[x, y])\n",
    "    \n",
    "    return W, H\n",
    "    \n",
    "    \n",
    "    "
   ]
  },
  {
   "cell_type": "code",
   "execution_count": 5,
   "metadata": {
    "collapsed": false
   },
   "outputs": [],
   "source": [
    "W1, H1 = update_step(V, W, H)"
   ]
  },
  {
   "cell_type": "code",
   "execution_count": 6,
   "metadata": {
    "collapsed": true
   },
   "outputs": [],
   "source": [
    "mse_vec = []\n",
    "for _ in range(1000):\n",
    "    mse_vec.append(mse(V, np.dot(W, H)))\n",
    "    W, H = update_step(V, W, H)"
   ]
  },
  {
   "cell_type": "code",
   "execution_count": 22,
   "metadata": {
    "collapsed": false
   },
   "outputs": [
    {
     "data": {
      "image/png": "[encoded data removed]",
      "text/plain": [
       "<matplotlib.figure.Figure at 0x1b6dc4f36a0>"
      ]
     },
     "metadata": {},
     "output_type": "display_data"
    }
   ],
   "source": [
    "%matplotlib inline\n",
    "\n",
    "import matplotlib\n",
    "import matplotlib.pyplot as plt\n",
    "\n",
    "plt.plot(list(range(0, 1000)), mse_vec[0:1000])\n",
    "plt.title('MSE for Multiplicative Update Rule over Epoch')\n",
    "plt.yscale(\"log\")\n",
    "plt.show()"
   ]
  },
  {
   "cell_type": "code",
   "execution_count": null,
   "metadata": {
    "collapsed": true
   },
   "outputs": [],
   "source": []
  }
 ],
 "metadata": {
  "kernelspec": {
   "display_name": "Python [conda root]",
   "language": "python",
   "name": "conda-root-py"
  },
  "language_info": {
   "codemirror_mode": {
    "name": "ipython",
    "version": 3
   },
   "file_extension": ".py",
   "mimetype": "text/x-python",
   "name": "python",
   "nbconvert_exporter": "python",
   "pygments_lexer": "ipython3",
   "version": "3.5.2"
  }
 },
 "nbformat": 4,
 "nbformat_minor": 2
}
