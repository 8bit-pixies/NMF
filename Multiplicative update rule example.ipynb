{
 "cells": [
  {
   "cell_type": "code",
   "execution_count": 1,
   "metadata": {
    "collapsed": true
   },
   "outputs": [],
   "source": [
    "import numpy as np"
   ]
  },
  {
   "cell_type": "code",
   "execution_count": 2,
   "metadata": {
    "collapsed": true
   },
   "outputs": [],
   "source": [
    "u = 20\n",
    "i = 100\n",
    "k = int(i/2) # this is latent features\n",
    "\n",
    "# this is the target which we are factorizing\n",
    "V = np.random.rand(u, i) * 100\n",
    "\n",
    "# p and q are the matrix which are to be make so that\n",
    "# np.dot(W, H) == V\n",
    "W = np.random.rand(u, k) * 100 \n",
    "H = np.random.rand(k, i) * 100\n",
    "\n",
    "W_copy = np.copy(W)\n",
    "H_copy = np.copy(H)"
   ]
  },
  {
   "cell_type": "code",
   "execution_count": 3,
   "metadata": {
    "collapsed": true
   },
   "outputs": [],
   "source": [
    "# calculate error...\n",
    "def mse(x, y):\n",
    "    return np.mean((x - y)**2)"
   ]
  },
  {
   "cell_type": "code",
   "execution_count": 4,
   "metadata": {
    "collapsed": true
   },
   "outputs": [],
   "source": [
    "def update_step_mu(V, W1, H1):\n",
    "    \"\"\"\n",
    "    Performs a single update of H and then W\n",
    "    returns the updated H W    \n",
    "    \"\"\"\n",
    "    W = np.copy(W1)\n",
    "    H = np.copy(H1)\n",
    "    wtv = np.dot(W.T, V)\n",
    "    #wtwh = W.T.dot(W).dot(V)\n",
    "    for idx, _ in np.ndenumerate(H):\n",
    "        x, y = idx\n",
    "        wtwh = (W.T.dot(W).dot(H))\n",
    "        H[x, y] = H[x, y] * (wtv[x, y])/(wtwh[x, y])\n",
    "    \n",
    "    vht = V.dot(H.T)\n",
    "    #whht = W.dot(H).dot(H.T)\n",
    "    for idx, _ in np.ndenumerate(W):\n",
    "        x, y = idx\n",
    "        W[x, y] = W[x, y] * (vht[x, y])/(W.dot(H).dot(H.T)[x, y])\n",
    "    \n",
    "    return W, H\n"
   ]
  },
  {
   "cell_type": "code",
   "execution_count": 5,
   "metadata": {
    "collapsed": true
   },
   "outputs": [],
   "source": [
    "def update_step_gd(V, W1, H1, l=0.5):\n",
    "    \"\"\"\n",
    "    Performs a single update of H and then W\n",
    "    returns the updated H W  \n",
    "    using alternating least squares\n",
    "    \"\"\"\n",
    "    W = np.copy(W1)\n",
    "    H = np.copy(H1)\n",
    "    \n",
    "    rowwise = W.shape[0]\n",
    "    eyeshape = H.shape[1]\n",
    "    \n",
    "    for idx in range(rowwise):\n",
    "        W[idx, :] = np.linalg.inv(H.T.dot(H) + l*np.eye(eyeshape)).dot(H.T).T.dot(V.T).T[idx, :]\n",
    "       \n",
    "    rowwise = H.shape[0]\n",
    "    eyeshape = W.shape[1]\n",
    "    \n",
    "    for idx in range(rowwise):\n",
    "        H[idx, :] = np.linalg.inv(W.T.dot(W) + l*np.eye(eyeshape)).dot(W.T).dot(V)[idx, :]\n",
    "    \n",
    "    return W, H"
   ]
  },
  {
   "cell_type": "code",
   "execution_count": 6,
   "metadata": {
    "collapsed": true
   },
   "outputs": [],
   "source": [
    "mse_vec_mu = []\n",
    "for _ in range(25):\n",
    "    mse_vec_mu.append(mse(V, np.dot(W, H)))\n",
    "    W, H = update_step_mu(V, W, H)"
   ]
  },
  {
   "cell_type": "code",
   "execution_count": 7,
   "metadata": {
    "collapsed": true
   },
   "outputs": [],
   "source": [
    "mse_vec_gd = []\n",
    "W = np.copy(W_copy)\n",
    "H = np.copy(H_copy)\n",
    "for _ in range(25):\n",
    "    mse_vec_gd.append(mse(V, np.dot(W, H)))\n",
    "    W, H = update_step_gd(V, W, H)"
   ]
  },
  {
   "cell_type": "code",
   "execution_count": 9,
   "metadata": {
    "collapsed": false
   },
   "outputs": [
    {
     "data": {
      "image/png": "[encoded data removed]",
      "text/plain": [
       "<matplotlib.figure.Figure at 0x1a74da080f0>"
      ]
     },
     "metadata": {},
     "output_type": "display_data"
    }
   ],
   "source": [
    "%matplotlib inline\n",
    "\n",
    "import matplotlib\n",
    "import matplotlib.pyplot as plt\n",
    "\n",
    "# note that gradient descent is far more expensive operation\n",
    "# and may not be a fair assessment of performance.\n",
    "\n",
    "plt.plot(list(range(0, 25)), mse_vec_mu[0:25], 'b--', list(range(0, 25)), mse_vec_gd[0:25], 'r-')\n",
    "plt.title('MSE for over Epoch')\n",
    "plt.yscale(\"log\")\n",
    "plt.show()"
   ]
  },
  {
   "cell_type": "code",
   "execution_count": null,
   "metadata": {
    "collapsed": true
   },
   "outputs": [],
   "source": []
  }
 ],
 "metadata": {
  "kernelspec": {
   "display_name": "Python [conda root]",
   "language": "python",
   "name": "conda-root-py"
  },
  "language_info": {
   "codemirror_mode": {
    "name": "ipython",
    "version": 3
   },
   "file_extension": ".py",
   "mimetype": "text/x-python",
   "name": "python",
   "nbconvert_exporter": "python",
   "pygments_lexer": "ipython3",
   "version": "3.5.2"
  }
 },
 "nbformat": 4,
 "nbformat_minor": 2
}
